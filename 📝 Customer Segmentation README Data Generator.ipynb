{
 "cells": [
  {
   "cell_type": "markdown",
   "id": "66cf4489-0014-4a83-a577-d0716cf5cfd7",
   "metadata": {},
   "source": [
    "# 📝 Customer Segmentation README Data Generator\n",
    "\n",
    "This notebook will generate all the tables and metrics needed for the README/dashboard mockup:\n",
    "\n",
    "RFM Snapshot\n",
    "\n",
    "KMeans Cluster Summary\n",
    "\n",
    "Agglomerative Cluster Summary\n",
    "\n",
    "Top Products per Segment\n",
    "\n",
    "Example Customer Recommendations\n",
    "\n",
    "Recommendation System Metrics"
   ]
  },
  {
   "cell_type": "markdown",
   "id": "3c70ca98-db63-49e0-92a4-5a4230a72165",
   "metadata": {},
   "source": [
    "# 1️⃣ Setup & Imports"
   ]
  },
  {
   "cell_type": "code",
   "execution_count": 1,
   "id": "1eea234e-3d4a-42b4-92be-35959de72a10",
   "metadata": {},
   "outputs": [],
   "source": [
    "# Basic libraries\n",
    "import pandas as pd\n",
    "import numpy as np\n",
    "from datetime import timedelta\n",
    "\n",
    "# For clustering\n",
    "from sklearn.preprocessing import StandardScaler\n",
    "from sklearn.cluster import KMeans, AgglomerativeClustering\n",
    "\n",
    "# Optional: display settings\n",
    "pd.set_option('display.max_columns', None)\n",
    "pd.set_option('display.max_rows', 20)"
   ]
  },
  {
   "cell_type": "markdown",
   "id": "db6b1b98-0c0d-4134-8a5e-a2bdba495119",
   "metadata": {},
   "source": [
    "# 2️⃣ Load Data"
   ]
  },
  {
   "cell_type": "code",
   "execution_count": 2,
   "id": "e447342a-2c43-4a59-b56b-507ad8bf7705",
   "metadata": {},
   "outputs": [
    {
     "name": "stdout",
     "output_type": "stream",
     "text": [
      "  InvoiceNo StockCode                          Description  Quantity  \\\n",
      "0    536365    85123A   WHITE HANGING HEART T-LIGHT HOLDER         6   \n",
      "1    536365     71053                  WHITE METAL LANTERN         6   \n",
      "2    536365    84406B       CREAM CUPID HEARTS COAT HANGER         8   \n",
      "3    536365    84029G  KNITTED UNION FLAG HOT WATER BOTTLE         6   \n",
      "4    536365    84029E       RED WOOLLY HOTTIE WHITE HEART.         6   \n",
      "\n",
      "          InvoiceDate  UnitPrice  CustomerID         Country  TotalPrice  \n",
      "0 2010-12-01 08:26:00       2.55     17850.0  United Kingdom       15.30  \n",
      "1 2010-12-01 08:26:00       3.39     17850.0  United Kingdom       20.34  \n",
      "2 2010-12-01 08:26:00       2.75     17850.0  United Kingdom       22.00  \n",
      "3 2010-12-01 08:26:00       3.39     17850.0  United Kingdom       20.34  \n",
      "4 2010-12-01 08:26:00       3.39     17850.0  United Kingdom       20.34  \n"
     ]
    }
   ],
   "source": [
    "# Load your cleaned transaction dataset\n",
    "# Make sure df has: InvoiceNo, CustomerID, Description, Quantity, UnitPrice, InvoiceDate\n",
    "df = pd.read_excel(\"OnlineRetail.xlsx\")  # replace with your path\n",
    "\n",
    "# Compute TotalPrice\n",
    "df[\"TotalPrice\"] = df[\"Quantity\"] * df[\"UnitPrice\"]\n",
    "\n",
    "# Optional sanity check\n",
    "print(df.head())"
   ]
  },
  {
   "cell_type": "markdown",
   "id": "41adf9e5-2653-426d-88cc-57271d2f376a",
   "metadata": {},
   "source": [
    "# 3️⃣ Compute RFM Metrics"
   ]
  },
  {
   "cell_type": "code",
   "execution_count": 3,
   "id": "f130fdc7-f943-4d02-8229-58255602cb58",
   "metadata": {},
   "outputs": [
    {
     "name": "stdout",
     "output_type": "stream",
     "text": [
      "RFM Snapshot:\n",
      "    CustomerID  Recency  Frequency  Monetary\n",
      "0     12346.0      326          2      0.00\n",
      "1     12347.0        2          7   4310.00\n",
      "2     12348.0       75          4   1797.24\n",
      "3     12349.0       19          1   1757.55\n",
      "4     12350.0      310          1    334.40\n"
     ]
    }
   ],
   "source": [
    "# Snapshot date: 1 day after the last purchase\n",
    "snapshot_date = df[\"InvoiceDate\"].max() + timedelta(days=1)\n",
    "\n",
    "# Compute RFM\n",
    "rfm = df.groupby(\"CustomerID\").agg({\n",
    "    \"InvoiceDate\": lambda x: (snapshot_date - x.max()).days,  # Recency\n",
    "    \"InvoiceNo\": \"nunique\",                                   # Frequency\n",
    "    \"TotalPrice\": \"sum\"                                       # Monetary\n",
    "}).reset_index()\n",
    "\n",
    "rfm.columns = [\"CustomerID\", \"Recency\", \"Frequency\", \"Monetary\"]\n",
    "\n",
    "print(\"RFM Snapshot:\\n\", rfm.head())"
   ]
  },
  {
   "cell_type": "markdown",
   "id": "08e0d08a-fd37-49ca-9c08-baa9eb4d4204",
   "metadata": {},
   "source": [
    "# 4️⃣ Scale RFM & Cluster Customers"
   ]
  },
  {
   "cell_type": "code",
   "execution_count": 4,
   "id": "c37ca924-b1b0-451b-b1ba-9fcce0a9bf47",
   "metadata": {},
   "outputs": [
    {
     "name": "stderr",
     "output_type": "stream",
     "text": [
      "C:\\Users\\dvenk\\AppData\\Local\\Programs\\Python\\Python310\\lib\\site-packages\\joblib\\externals\\loky\\backend\\context.py:131: UserWarning: Could not find the number of physical cores for the following reason:\n",
      "[WinError 2] The system cannot find the file specified\n",
      "Returning the number of logical cores instead. You can silence this warning by setting LOKY_MAX_CPU_COUNT to the number of cores you want to use.\n",
      "  warnings.warn(\n",
      "  File \"C:\\Users\\dvenk\\AppData\\Local\\Programs\\Python\\Python310\\lib\\site-packages\\joblib\\externals\\loky\\backend\\context.py\", line 247, in _count_physical_cores\n",
      "    cpu_count_physical = _count_physical_cores_win32()\n",
      "  File \"C:\\Users\\dvenk\\AppData\\Local\\Programs\\Python\\Python310\\lib\\site-packages\\joblib\\externals\\loky\\backend\\context.py\", line 299, in _count_physical_cores_win32\n",
      "    cpu_info = subprocess.run(\n",
      "  File \"C:\\Users\\dvenk\\AppData\\Local\\Programs\\Python\\Python310\\lib\\subprocess.py\", line 501, in run\n",
      "    with Popen(*popenargs, **kwargs) as process:\n",
      "  File \"C:\\Users\\dvenk\\AppData\\Local\\Programs\\Python\\Python310\\lib\\subprocess.py\", line 966, in __init__\n",
      "    self._execute_child(args, executable, preexec_fn, close_fds,\n",
      "  File \"C:\\Users\\dvenk\\AppData\\Local\\Programs\\Python\\Python310\\lib\\subprocess.py\", line 1435, in _execute_child\n",
      "    hp, ht, pid, tid = _winapi.CreateProcess(executable, args,\n"
     ]
    },
    {
     "name": "stdout",
     "output_type": "stream",
     "text": [
      "Clusters added to RFM data.\n",
      "    CustomerID  Recency  Frequency  Monetary  Cluster_KMeans  Cluster_Agglo\n",
      "0     12346.0      326          2      0.00               1              2\n",
      "1     12347.0        2          7   4310.00               3              0\n",
      "2     12348.0       75          4   1797.24               3              0\n",
      "3     12349.0       19          1   1757.55               3              0\n",
      "4     12350.0      310          1    334.40               1              2\n"
     ]
    }
   ],
   "source": [
    "# Scale RFM metrics\n",
    "scaler = StandardScaler()\n",
    "rfm_scaled = scaler.fit_transform(rfm[[\"Recency\",\"Frequency\",\"Monetary\"]])\n",
    "\n",
    "# --- KMeans Clustering ---\n",
    "kmeans = KMeans(n_clusters=4, random_state=42)\n",
    "rfm[\"Cluster_KMeans\"] = kmeans.fit_predict(rfm_scaled)\n",
    "\n",
    "# --- Agglomerative Clustering ---\n",
    "agglo = AgglomerativeClustering(n_clusters=4)\n",
    "rfm[\"Cluster_Agglo\"] = agglo.fit_predict(rfm_scaled)\n",
    "\n",
    "print(\"Clusters added to RFM data.\\n\", rfm.head())"
   ]
  },
  {
   "cell_type": "markdown",
   "id": "25a7fe89-cea8-4571-8aff-b77ae577b48c",
   "metadata": {},
   "source": [
    "# 5️⃣ Cluster Summary Tables"
   ]
  },
  {
   "cell_type": "code",
   "execution_count": 5,
   "id": "8cdd38a8-5f3f-4570-97ea-32fcc536cb0f",
   "metadata": {},
   "outputs": [
    {
     "name": "stdout",
     "output_type": "stream",
     "text": [
      "📊 K-Means Cluster Summary:\n",
      "                 Recency  Frequency   Monetary  NumCustomers\n",
      "Cluster_KMeans                                             \n",
      "0                 10.75      28.51   12168.26           194\n",
      "1                248.93       1.81     455.11          1077\n",
      "2                  5.09     109.91  124312.31            11\n",
      "3                 42.78       4.37    1320.98          3090\n",
      "\n",
      "📊 Agglomerative Cluster Summary:\n",
      "                Recency  Frequency   Monetary  NumCustomers\n",
      "Cluster_Agglo                                             \n",
      "0                48.49       5.35    1709.83          3483\n",
      "1                 6.73      85.00   56018.83            22\n",
      "2               270.13       1.74     450.11           864\n",
      "3                 3.67      64.67  241136.56             3\n"
     ]
    }
   ],
   "source": [
    "# KMeans Cluster Summary\n",
    "cluster_summary_kmeans = rfm.groupby(\"Cluster_KMeans\").agg({\n",
    "    \"Recency\": \"mean\",\n",
    "    \"Frequency\": \"mean\",\n",
    "    \"Monetary\": \"mean\",\n",
    "    \"CustomerID\": \"count\"\n",
    "}).rename(columns={\"CustomerID\": \"NumCustomers\"}).round(2)\n",
    "\n",
    "# Agglomerative Cluster Summary\n",
    "cluster_summary_agglo = rfm.groupby(\"Cluster_Agglo\").agg({\n",
    "    \"Recency\": \"mean\",\n",
    "    \"Frequency\": \"mean\",\n",
    "    \"Monetary\": \"mean\",\n",
    "    \"CustomerID\": \"count\"\n",
    "}).rename(columns={\"CustomerID\": \"NumCustomers\"}).round(2)\n",
    "\n",
    "print(\"📊 K-Means Cluster Summary:\\n\", cluster_summary_kmeans)\n",
    "print(\"\\n📊 Agglomerative Cluster Summary:\\n\", cluster_summary_agglo)"
   ]
  },
  {
   "cell_type": "markdown",
   "id": "51c3212a-f70d-4cf1-8c43-5b8c01a87c9e",
   "metadata": {},
   "source": [
    "# 6️⃣ Assign Segment Names "
   ]
  },
  {
   "cell_type": "code",
   "execution_count": 6,
   "id": "5981af94-d5c3-4294-8323-3af12c2ca969",
   "metadata": {},
   "outputs": [
    {
     "name": "stdout",
     "output_type": "stream",
     "text": [
      "   CustomerID  Recency  Frequency  Monetary             Segment\n",
      "0     12346.0      326          2      0.00  At-risk / Inactive\n",
      "1     12347.0        2          7   4310.00     Price-sensitive\n",
      "2     12348.0       75          4   1797.24     Price-sensitive\n",
      "3     12349.0       19          1   1757.55     Price-sensitive\n",
      "4     12350.0      310          1    334.40  At-risk / Inactive\n"
     ]
    }
   ],
   "source": [
    "# Example mapping (adjust based on your analysis)\n",
    "cluster_map = {\n",
    "    0: \"Frequent Buyers\",\n",
    "    1: \"At-risk / Inactive\",\n",
    "    2: \"High-value Loyal\",\n",
    "    3: \"Price-sensitive\"\n",
    "}\n",
    "\n",
    "rfm[\"Segment\"] = rfm[\"Cluster_KMeans\"].map(cluster_map)\n",
    "print(rfm[[\"CustomerID\",\"Recency\",\"Frequency\",\"Monetary\",\"Segment\"]].head())"
   ]
  },
  {
   "cell_type": "markdown",
   "id": "436d2ed9-23f9-4af0-a590-f9898864b853",
   "metadata": {},
   "source": [
    "# 7️⃣ Top Products per Segment"
   ]
  },
  {
   "cell_type": "code",
   "execution_count": 7,
   "id": "b020b5a3-1812-46ed-9d8f-110ffaef7ffd",
   "metadata": {},
   "outputs": [
    {
     "name": "stdout",
     "output_type": "stream",
     "text": [
      "\n",
      "Segment: At-risk / Inactive\n",
      "1. WORLD WAR 2 GLIDERS ASSTD DESIGNS (5377)\n",
      "2. SMALL POPCORN HOLDER (4963)\n",
      "3. WHITE HANGING HEART T-LIGHT HOLDER (4127)\n",
      "4. FAIRY CAKE FLANNEL ASSORTED COLOUR (3320)\n",
      "5. ASSORTED COLOURS SILK FAN (2624)\n",
      "\n",
      "Segment: Frequent Buyers\n",
      "1. WORLD WAR 2 GLIDERS ASSTD DESIGNS (24493)\n",
      "2. JUMBO BAG RED RETROSPOT (20556)\n",
      "3. POPCORN HOLDER (19059)\n",
      "4. PACK OF 12 LONDON TISSUES  (15379)\n",
      "5. ASSORTED COLOUR BIRD ORNAMENT (13732)\n",
      "\n",
      "Segment: High-value Loyal\n",
      "1. PACK OF 72 RETROSPOT CAKE CASES (6773)\n",
      "2. RABBIT NIGHT LIGHT (6532)\n",
      "3. WHITE HANGING HEART T-LIGHT HOLDER (6471)\n",
      "4. SPACEBOY LUNCH BOX  (6215)\n",
      "5. HEART OF WICKER SMALL (6200)\n",
      "\n",
      "Segment: Price-sensitive\n",
      "1. WORLD WAR 2 GLIDERS ASSTD DESIGNS (22097)\n",
      "2. JUMBO BAG RED RETROSPOT (18190)\n",
      "3. ASSORTED COLOUR BIRD ORNAMENT (17286)\n",
      "4. PACK OF 72 RETROSPOT CAKE CASES (16645)\n",
      "5. WHITE HANGING HEART T-LIGHT HOLDER (13546)\n"
     ]
    }
   ],
   "source": [
    "# Merge segment info into transaction df\n",
    "df = df.merge(rfm[['CustomerID', 'Segment']], on='CustomerID', how='left')\n",
    "\n",
    "# Aggregate product quantity per segment\n",
    "top_products_per_segment = (\n",
    "    df.groupby(['Segment','Description'])['Quantity']\n",
    "      .sum()\n",
    "      .reset_index()\n",
    "      .sort_values(['Segment','Quantity'], ascending=[True,False])\n",
    ")\n",
    "\n",
    "# Get top 5 per segment\n",
    "top_products_summary = top_products_per_segment.groupby('Segment').head(5)\n",
    "\n",
    "# Display nicely\n",
    "for seg in top_products_summary['Segment'].unique():\n",
    "    print(f\"\\nSegment: {seg}\")\n",
    "    temp = top_products_summary[top_products_summary['Segment']==seg]\n",
    "    for i, row in enumerate(temp.itertuples(),1):\n",
    "        print(f\"{i}. {row.Description} ({row.Quantity})\")"
   ]
  },
  {
   "cell_type": "markdown",
   "id": "2829a6e4-7358-4e4d-9d38-7ae17e4dced5",
   "metadata": {},
   "source": [
    "# 8️⃣ Personalized Recommendations per CustomerID"
   ]
  },
  {
   "cell_type": "code",
   "execution_count": 10,
   "id": "b0d4b8af-e2da-424d-9687-5e2a4f6c9f94",
   "metadata": {},
   "outputs": [
    {
     "name": "stdout",
     "output_type": "stream",
     "text": [
      "\n",
      "CustomerID: 12931\n",
      "1. WORLD WAR 2 GLIDERS ASSTD DESIGNS\n",
      "2. JUMBO BAG RED RETROSPOT\n",
      "3. WHITE HANGING HEART T-LIGHT HOLDER\n",
      "4. PACK OF 72 RETROSPOT CAKE CASES\n",
      "5. MINI PAINT SET VINTAGE \n",
      "\n",
      "CustomerID: 16110\n",
      "1. WORLD WAR 2 GLIDERS ASSTD DESIGNS\n",
      "2. JUMBO BAG RED RETROSPOT\n",
      "3. ASSORTED COLOUR BIRD ORNAMENT\n",
      "4. WHITE HANGING HEART T-LIGHT HOLDER\n",
      "5. POPCORN HOLDER\n",
      "\n",
      "CustomerID: 15571\n",
      "1. WORLD WAR 2 GLIDERS ASSTD DESIGNS\n",
      "2. ASSORTED COLOUR BIRD ORNAMENT\n",
      "3. WHITE HANGING HEART T-LIGHT HOLDER\n",
      "4. PACK OF 72 RETROSPOT CAKE CASES\n",
      "5. POPCORN HOLDER\n"
     ]
    }
   ],
   "source": [
    "# ===============================\n",
    "# 8️⃣ Personalized Recommendations per CustomerID (Fixed NaN & SettingWithCopyWarning)\n",
    "# ===============================\n",
    "import pandas as pd\n",
    "from sklearn.metrics.pairwise import cosine_similarity\n",
    "import random\n",
    "\n",
    "# --- Ensure your df has columns: CustomerID, Description, Quantity ---\n",
    "# df = pd.read_excel(\"online_retail_cleaned.xlsx\")  # Load your dataset if not already loaded\n",
    "\n",
    "# 1️⃣ Remove rows with missing CustomerID and make a copy\n",
    "df_clean = df.dropna(subset=['CustomerID']).copy()\n",
    "\n",
    "# 2️⃣ Convert CustomerID to integer\n",
    "df_clean['CustomerID'] = df_clean['CustomerID'].astype(int)\n",
    "\n",
    "# 3️⃣ Create customer-product pivot table\n",
    "customer_product_matrix = df_clean.pivot_table(\n",
    "    index='CustomerID', \n",
    "    columns='Description', \n",
    "    values='Quantity', \n",
    "    aggfunc='sum', \n",
    "    fill_value=0\n",
    ")\n",
    "\n",
    "# 4️⃣ Compute customer similarity (cosine similarity)\n",
    "customer_similarity = cosine_similarity(customer_product_matrix)\n",
    "customer_similarity_df = pd.DataFrame(\n",
    "    customer_similarity, \n",
    "    index=customer_product_matrix.index, \n",
    "    columns=customer_product_matrix.index\n",
    ")\n",
    "\n",
    "# 5️⃣ Function to get top N recommended products for a given customer\n",
    "def get_top_n_recommendations(customer_id, top_n=5):\n",
    "    if customer_id not in customer_similarity_df.index:\n",
    "        return []\n",
    "    \n",
    "    # Similar customers excluding self\n",
    "    similar_customers = customer_similarity_df.loc[customer_id].sort_values(ascending=False).index[1:]\n",
    "    \n",
    "    # Aggregate products purchased by similar customers\n",
    "    rec_products = df_clean[df_clean['CustomerID'].isin(similar_customers)].groupby('Description')['Quantity'].sum()\n",
    "    \n",
    "    # Remove products already purchased by this customer\n",
    "    purchased_products = df_clean[df_clean['CustomerID']==customer_id]['Description'].unique()\n",
    "    rec_products = rec_products[~rec_products.index.isin(purchased_products)]\n",
    "    \n",
    "    # Top N recommendations\n",
    "    top_recs = rec_products.sort_values(ascending=False).head(top_n)\n",
    "    return list(top_recs.index)\n",
    "\n",
    "# 6️⃣ Generate recommendations for all customers\n",
    "recommendations = {cid: get_top_n_recommendations(cid, top_n=5) \n",
    "                   for cid in df_clean['CustomerID'].unique()}\n",
    "\n",
    "# 7️⃣ Example: Display recommendations for 3 random customers\n",
    "for cid in random.sample(list(df_clean['CustomerID'].unique()), 3):\n",
    "    print(f\"\\nCustomerID: {cid}\")\n",
    "    recs = recommendations.get(cid, [])\n",
    "    for i, prod in enumerate(recs, 1):\n",
    "        print(f\"{i}. {prod}\")"
   ]
  },
  {
   "cell_type": "code",
   "execution_count": null,
   "id": "72c7498a-175d-42b1-b894-a59fab5eb735",
   "metadata": {},
   "outputs": [],
   "source": []
  }
 ],
 "metadata": {
  "kernelspec": {
   "display_name": "Python 3 (ipykernel)",
   "language": "python",
   "name": "python3"
  },
  "language_info": {
   "codemirror_mode": {
    "name": "ipython",
    "version": 3
   },
   "file_extension": ".py",
   "mimetype": "text/x-python",
   "name": "python",
   "nbconvert_exporter": "python",
   "pygments_lexer": "ipython3",
   "version": "3.10.0"
  }
 },
 "nbformat": 4,
 "nbformat_minor": 5
}
